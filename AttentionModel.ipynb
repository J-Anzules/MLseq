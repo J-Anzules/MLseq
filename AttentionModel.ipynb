{
 "cells": [
  {
   "cell_type": "markdown",
   "id": "88cfb11e",
   "metadata": {},
   "source": [
    "# Notes\n",
    "This script so far is just for putting down my idea what the model structure will be like"
   ]
  },
  {
   "cell_type": "code",
   "execution_count": null,
   "id": "978b4ea2",
   "metadata": {},
   "outputs": [],
   "source": [
    "import torch\n",
    "import torch.nn as nn\n",
    "\n",
    "# Define your attention-based model\n",
    "class AttentionModel(nn.Module):\n",
    "    def __init__(self, input_size, num_conditions):\n",
    "        super(AttentionModel, self).__init__()\n",
    "        self.attention = nn.Sequential(\n",
    "            nn.Linear(input_size, 64),\n",
    "            nn.ReLU(),\n",
    "            nn.Linear(64, num_conditions),\n",
    "            nn.Softmax(dim=1)\n",
    "        )\n",
    "        # Define other layers of your model as needed\n",
    "        \n",
    "    def forward(self, x):\n",
    "        attention_weights = self.attention(x)\n",
    "        # Apply attention weights to your model's layers and return the output\n",
    "\n",
    "# Example gene expression data tensor\n",
    "gene_expression_data = torch.randn(3, 10000, 2)  # Shape: (samples, genes, conditions)\n",
    "\n",
    "# Create an instance of your attention-based model\n",
    "input_size = 10000\n",
    "num_conditions = 2\n",
    "model = AttentionModel(input_size, num_conditions)\n",
    "\n",
    "# Reshape the gene expression data tensor for input to the model\n",
    "samples = gene_expression_data.size(0)\n",
    "genes = gene_expression_data.size(1)\n",
    "input_data = gene_expression_data.view(samples, genes, -1)  # Reshape to (samples, genes * conditions)\n",
    "\n",
    "# Feed the reshaped input data to the model\n",
    "output = model(input_data)\n"
   ]
  },
  {
   "cell_type": "code",
   "execution_count": 1,
   "id": "26a3470a",
   "metadata": {},
   "outputs": [
    {
     "ename": "NameError",
     "evalue": "name 'model' is not defined",
     "output_type": "error",
     "traceback": [
      "\u001b[1;31m---------------------------------------------------------------------------\u001b[0m",
      "\u001b[1;31mNameError\u001b[0m                                 Traceback (most recent call last)",
      "Cell \u001b[1;32mIn[1], line 2\u001b[0m\n\u001b[0;32m      1\u001b[0m \u001b[38;5;66;03m# After the forward pass and obtaining the model output\u001b[39;00m\n\u001b[1;32m----> 2\u001b[0m output \u001b[38;5;241m=\u001b[39m \u001b[43mmodel\u001b[49m(input_data)\n\u001b[0;32m      4\u001b[0m \u001b[38;5;66;03m# Apply threshold to classify genes as differentially expressed\u001b[39;00m\n\u001b[0;32m      5\u001b[0m threshold \u001b[38;5;241m=\u001b[39m \u001b[38;5;241m0.5\u001b[39m  \u001b[38;5;66;03m# Adjust\u001b[39;00m\n",
      "\u001b[1;31mNameError\u001b[0m: name 'model' is not defined"
     ]
    }
   ],
   "source": [
    "# After the forward pass and obtaining the model output\n",
    "output = model(input_data)\n",
    "\n",
    "# Apply threshold to classify genes as differentially expressed\n",
    "threshold = 0.5  # Adjust\n",
    "is_differentially_expressed = output[:, :, 1] > threshold\n",
    "\n",
    "# Retrieve the indices of differentially expressed genes\n",
    "differentially_expressed_indices = torch.nonzero(is_differentially_expressed, as_tuple=False)\n",
    "\n",
    "# Extract the gene IDs or names corresponding to differentially expressed genes\n",
    "differentially_expressed_genes = gene_ids[differentially_expressed_indices.squeeze()]\n",
    "\n",
    "# Print the differentially expressed genes\n",
    "print(differentially_expressed_genes)\n"
   ]
  },
  {
   "cell_type": "code",
   "execution_count": null,
   "id": "f0ce88c0",
   "metadata": {},
   "outputs": [],
   "source": []
  },
  {
   "cell_type": "code",
   "execution_count": null,
   "id": "21f4cd44",
   "metadata": {},
   "outputs": [],
   "source": []
  }
 ],
 "metadata": {
  "kernelspec": {
   "display_name": "Python 3 (ipykernel)",
   "language": "python",
   "name": "python3"
  },
  "language_info": {
   "codemirror_mode": {
    "name": "ipython",
    "version": 3
   },
   "file_extension": ".py",
   "mimetype": "text/x-python",
   "name": "python",
   "nbconvert_exporter": "python",
   "pygments_lexer": "ipython3",
   "version": "3.9.16"
  }
 },
 "nbformat": 4,
 "nbformat_minor": 5
}
